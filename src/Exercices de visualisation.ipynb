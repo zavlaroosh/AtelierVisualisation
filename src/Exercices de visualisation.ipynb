{
 "cells": [
  {
   "cell_type": "markdown",
   "metadata": {},
   "source": [
    "# Exercices de visualisation pour débutant\n",
    "Bienvenue à l'atelier de visualisation de données en python. Ce travail vous permettra de mettre en pratique les concepts clefs appris lors de la présentation sur le sujet. \n",
    "\n",
    "Premièrement, essayer de compiler la cellule ci-dessous pour vérifier que les *package* ont bien été installés. Avec Jupyter notebook il suffit d'appuyer sur Ctrl + Enter ou Shift + Enter en étant dans la cellule pour compiler une cellule.\n",
    "\n",
    "> Vous verez au long de l'atelier que quelques exercices optionnels sont proposés. Ces exercices sont présents pour concilier les différents niveaux de connaissances dans le groupe. Les analyses et conclusions qui en resortent sont tout de même pertinentes, alors pour vous assurer d'avoir le temps de compléter l'atelier, nous vous recommandons de garder ces exercices pour la fin, si vous souhaitez les faire."
   ]
  },
  {
   "cell_type": "code",
   "execution_count": 29,
   "metadata": {},
   "outputs": [
    {
     "ename": "ModuleNotFoundError",
     "evalue": "No module named 'seaborn'",
     "output_type": "error",
     "traceback": [
      "\u001b[1;31m---------------------------------------------------------------------------\u001b[0m",
      "\u001b[1;31mModuleNotFoundError\u001b[0m                       Traceback (most recent call last)",
      "\u001b[1;32m~\\AppData\\Local\\Temp\\ipykernel_18808\\2569590837.py\u001b[0m in \u001b[0;36m<module>\u001b[1;34m\u001b[0m\n\u001b[0;32m      1\u001b[0m \u001b[1;32mimport\u001b[0m \u001b[0mmatplotlib\u001b[0m\u001b[1;33m.\u001b[0m\u001b[0mpyplot\u001b[0m \u001b[1;32mas\u001b[0m \u001b[0mplt\u001b[0m\u001b[1;33m\u001b[0m\u001b[1;33m\u001b[0m\u001b[0m\n\u001b[1;32m----> 2\u001b[1;33m \u001b[1;32mimport\u001b[0m \u001b[0mseaborn\u001b[0m \u001b[1;32mas\u001b[0m \u001b[0msns\u001b[0m\u001b[1;33m\u001b[0m\u001b[1;33m\u001b[0m\u001b[0m\n\u001b[0m\u001b[0;32m      3\u001b[0m \u001b[1;32mimport\u001b[0m \u001b[0mnumpy\u001b[0m \u001b[1;32mas\u001b[0m \u001b[0mnp\u001b[0m\u001b[1;33m\u001b[0m\u001b[1;33m\u001b[0m\u001b[0m\n\u001b[0;32m      4\u001b[0m \u001b[1;32mimport\u001b[0m \u001b[0mpandas\u001b[0m \u001b[1;32mas\u001b[0m \u001b[0mpd\u001b[0m\u001b[1;33m\u001b[0m\u001b[1;33m\u001b[0m\u001b[0m\n",
      "\u001b[1;31mModuleNotFoundError\u001b[0m: No module named 'seaborn'"
     ]
    }
   ],
   "source": [
    "import matplotlib.pyplot as plt\n",
    "import seaborn as sns\n",
    "import numpy as np\n",
    "import pandas as pd\n"
   ]
  },
  {
   "cell_type": "markdown",
   "metadata": {},
   "source": [
    "De plus, avec Jupyter, vous n'avez pas besoin de mettre de `print` pour afficher le résultat de la dernière fonction ou la dernière variable, exemple :"
   ]
  },
  {
   "cell_type": "code",
   "execution_count": 12,
   "metadata": {},
   "outputs": [
    {
     "data": {
      "text/plain": [
       "'Hello world'"
      ]
     },
     "execution_count": 12,
     "metadata": {},
     "output_type": "execute_result"
    }
   ],
   "source": [
    "'Hello world'"
   ]
  },
  {
   "cell_type": "code",
   "execution_count": 16,
   "metadata": {},
   "outputs": [
    {
     "data": {
      "text/plain": [
       "'Hello world 2'"
      ]
     },
     "execution_count": 16,
     "metadata": {},
     "output_type": "execute_result"
    }
   ],
   "source": [
    "'Hello world'\n",
    "'Hello world 2'"
   ]
  },
  {
   "cell_type": "markdown",
   "metadata": {},
   "source": [
    "Toutefois, si `print` n'est pas utilisé, les variables non-assignées sont affichées seulement si elles se trouvent à la dernière ligne de code."
   ]
  },
  {
   "cell_type": "code",
   "execution_count": 17,
   "metadata": {},
   "outputs": [
    {
     "name": "stdout",
     "output_type": "stream",
     "text": [
      "printed Hello world\n"
     ]
    },
    {
     "data": {
      "text/plain": [
       "33"
      ]
     },
     "execution_count": 17,
     "metadata": {},
     "output_type": "execute_result"
    }
   ],
   "source": [
    "'Hello world'\n",
    "print('printed Hello world')\n",
    "33"
   ]
  },
  {
   "cell_type": "markdown",
   "metadata": {},
   "source": [
    "## Visualisation de données\n",
    "### Base de données : *Penguins*!\n",
    "![Artwork by @allison_horst](../assets/penguins.png)\n",
    "Artwork by @allison_horst\n",
    "\n",
    "La base de données utilisée pour cette exercice est la base de donnée gratuite *Palmer Archipelago's penguin*. Celle-ci regroupe des données multivariées de 3 espèces de manchots répartis sur l'archipel de Palmer en Antarctique et se veut un excellent outil d'introduction à la visualisation.\n",
    "\n",
    "Dans la cellule suivante, commencez par charger la base de données avec `pandas` et afficher sa taille avec `shape`.\n",
    "\n",
    "> Les données sont sauvegardées dans le répertoire sous le nom de `palmerpenguins.csv`\n",
    "\n",
    "> Le code écrit dans une cellule précédente est accessible dans toutes les cellules en bas, donc pas besoin de refaire `import pandas as pd`"
   ]
  },
  {
   "cell_type": "code",
   "execution_count": 27,
   "metadata": {},
   "outputs": [
    {
     "ename": "NameError",
     "evalue": "name 'pd' is not defined",
     "output_type": "error",
     "traceback": [
      "\u001b[1;31m---------------------------------------------------------------------------\u001b[0m",
      "\u001b[1;31mNameError\u001b[0m                                 Traceback (most recent call last)",
      "\u001b[1;32m~\\AppData\\Local\\Temp\\ipykernel_18808\\636427023.py\u001b[0m in \u001b[0;36m<module>\u001b[1;34m\u001b[0m\n\u001b[1;32m----> 1\u001b[1;33m \u001b[0mx\u001b[0m \u001b[1;33m=\u001b[0m \u001b[0mpd\u001b[0m\u001b[1;33m.\u001b[0m\u001b[0mopen\u001b[0m\u001b[1;33m(\u001b[0m\u001b[0mpalmerpenguins\u001b[0m\u001b[1;33m.\u001b[0m\u001b[0mcsv\u001b[0m\u001b[1;33m)\u001b[0m\u001b[1;33m\u001b[0m\u001b[1;33m\u001b[0m\u001b[0m\n\u001b[0m\u001b[0;32m      2\u001b[0m \u001b[0mlenght\u001b[0m\u001b[1;33m(\u001b[0m\u001b[0mx\u001b[0m\u001b[1;33m)\u001b[0m\u001b[1;33m\u001b[0m\u001b[1;33m\u001b[0m\u001b[0m\n",
      "\u001b[1;31mNameError\u001b[0m: name 'pd' is not defined"
     ]
    }
   ],
   "source": [
    "\n",
    "x = pd.open(palmerpenguins.csv)\n",
    "lenght(x)\n"
   ]
  },
  {
   "cell_type": "markdown",
   "metadata": {},
   "source": [
    "Vous devriez maintenant voir le nombre d'individus ainsi que le nombre de variables dans la base de données. La première étape de la visualisation est de comprendre les données avec lesquels on travaille pour choisir les bonnes figures plus tard. La méthode la plus simple est d'afficher certaines données.\n",
    "\n",
    "\n",
    "Dans la cellule suivante, affichez les cinq premières lignes ainsi que l'entête de la base de données. "
   ]
  },
  {
   "cell_type": "code",
   "execution_count": null,
   "metadata": {},
   "outputs": [],
   "source": []
  },
  {
   "cell_type": "markdown",
   "metadata": {},
   "source": [
    "Vous devriez maintenant remarquer que la base de données possède des variables discrètes (`Clutch Completion`, `Sex`, `Island`, `Region`, `Species`), d'autres variables continues (`Culmen Length`, `Culmen Depth`, `Flipper Length`, *etc.*) et d'autres colonnes qui ne seront pas utiles dans le cadre de cet exercice. Un autre détail que vous devriez être en mesure d'observer est la présence de `NaN`, qui sont des données manquantes. Les données manquantes se retrouvent essentiellement dans toutes les bases de données. Savoir comment les gérer est un art en soi et ne sera pas traité dans l'atelier par souci de temps. Vous pourrez donc ignorer les `NaN`, mais gardez en tête leur présence lors des prochains exercices, puisqu'ils peuvent causer des erreurs. Pour diriger vos choix, vous pouvez faire afficher les données manquantes dans chaque colonnes :"
   ]
  },
  {
   "cell_type": "code",
   "execution_count": null,
   "metadata": {},
   "outputs": [],
   "source": []
  },
  {
   "cell_type": "markdown",
   "metadata": {},
   "source": [
    "### Analyse de variables discrètes : Le diagramme à bande\n",
    "Pour comparer des données catégoriques, l'outil principal est le diagramme à bande. En utilisant `plt.bar` afficher un diagramme à bande pour la variable `Sex`, un autre pour `Island` et un dernier pour `Species`:\n",
    "\n",
    "> Pour tous les exercices, nous nous attendons à ce que les axes soient convenablement nommés avec les unités au besoin\n",
    "\n",
    "> Exercice optionnelle : Si vous êtes à l'aise essayez d'utiliser une boucle!"
   ]
  },
  {
   "cell_type": "code",
   "execution_count": null,
   "metadata": {},
   "outputs": [],
   "source": []
  },
  {
   "cell_type": "markdown",
   "metadata": {},
   "source": [
    "Vous devriez maintenant être en mesure d'observer qu'au sein d'une même variables, les données ne sont pas distribuées également entre les catégories. \n",
    "\n",
    "Toutefois, ces figures ne nous informent pas sur la distribution des différentes espèces à l'intérieur de chaque île, ce qui pourrait être intéressant à visualiser."
   ]
  },
  {
   "cell_type": "markdown",
   "metadata": {},
   "source": [
    "#### Exercice optionnel\n",
    "Produisez une figure permettant de voir la distribution de chaque espèce à l'intérieur des différentes îles."
   ]
  },
  {
   "cell_type": "code",
   "execution_count": null,
   "metadata": {},
   "outputs": [],
   "source": []
  },
  {
   "cell_type": "markdown",
   "metadata": {},
   "source": [
    "### Analyse de variables continues : Le nuage de point\n",
    "De l'analyse de l'association entre deux variables continues ou la visualisation de positions cartésiennes, le nuage de points est un outil essentiel à tous les domaines. Plusieurs mesures de variables continues sont fournies dans les données. Pouvez vous en choisir 2 et faire afficher une en fonction de l'autre dans la cellule suivante ?\n",
    "\n",
    "> N'oublier pas de traiter les NaNs\n",
    "\n",
    "> Essayer de faire des fonctions avec votre code\n",
    "\n",
    "> Défi supplémentaire (optionnel): Utiliser une boucle pour faire afficher toutes les combinaisons possibles !"
   ]
  },
  {
   "cell_type": "code",
   "execution_count": null,
   "metadata": {},
   "outputs": [],
   "source": []
  },
  {
   "cell_type": "markdown",
   "metadata": {},
   "source": [
    "Dépendamment de quelles associations vous avez fait afficher, vous avez peut être remarqué la présence de regroupement de données.\n",
    "\n",
    "#### Les couleurs, une dimension supplémentaire:\n",
    "En visualisation, que se soit pour un article ou un devoir en *latex*, nous sommes souvent limités à deux dimensions géométriques pour afficher les données. Pour transmettre plus d'informations, on utilise alors souvent la couleur des points comme troisième dimension.\n",
    "\n",
    "Pour le choix de couleurs, une librairie très pertinente en python est [seaborn](https://seaborn.pydata.org/) et plus précisément leur outil de choix de [palettes de couleur](https://seaborn.pydata.org/tutorial/color_palettes.html). Les couleurs sont données sous forme de tuple <span style=\"color:red\">R</span><span style=\"color:green\">G</span><span style=\"color:blue\">B</span> et donc compatible avec toute librairie de visualisation de données (incluant pyplot). Son utilisation n'est pas obligatoire, mais est fortement recommandée dans la suite des exercices et dans vos travaux futurs. Les liens hypertext vous conduirons vers les ressources nécessaires pour votre apprentissage.\n",
    "\n",
    "Pour le prochain exercice, refaire l'exercice précédent en encodant une troisième variable dans les couleurs des points du nuage. Essayer d'incorporer les palettes de seaborn (importé sous le nom `sns`)! Nous vous recommandons de commencer par colorer les points en fonction de leur espèce ou île. Par la suite, essayer différentes variables et différentes couleurs/palettes !\n",
    "\n",
    "> Si la troisième variable est continue, la palette de couleur devrait être continue et une échelle de couleur devrait être visible pour savoir quelles couleurs représentent quoi."
   ]
  },
  {
   "cell_type": "code",
   "execution_count": null,
   "metadata": {},
   "outputs": [],
   "source": []
  },
  {
   "cell_type": "markdown",
   "metadata": {},
   "source": [
    "En ajoutant seulement quelques couleurs à vos précédentes figures, vous devriez déjà être en mesure de tirer des conclusions intéressantes sur les différentes populations de manchots de l'archipel ! Là est le pouvoir de la visualisation ! Si en un coup d'oeil, un lecteur non-informé est capable de voir quelles espèces se distinguent du reste (et comment) ou sur quels attributs les femelles sont différente des mâles, vous avez bien fait votre travail !\n",
    "\n",
    "#### Question Bonus\n",
    "Avec le nuage de point il existe une autre méthode que la couleur permettant d'ajouter de l'information. Êtes-vous capable de la nommer ? Si oui, reprennez un de vos exemples précédents et ajouter cette nouvelle dimension."
   ]
  },
  {
   "cell_type": "code",
   "execution_count": null,
   "metadata": {},
   "outputs": [],
   "source": []
  },
  {
   "cell_type": "markdown",
   "metadata": {},
   "source": [
    "### Analyse en une dimension : l'histogramme\n",
    "L'histogramme est une figure souvent utilisée pour visualiser les distributions de variables continues. En segmentant l'espace en *bin* et en comptant la prévalence dans chacun, on peut estimer la distribution. La clef est de choisir la bonne taille de *bin*. En utilisant la fonction de `matplotlib`, prennez une variable continue et affichez sa distribution."
   ]
  },
  {
   "cell_type": "code",
   "execution_count": null,
   "metadata": {},
   "outputs": [],
   "source": []
  },
  {
   "cell_type": "markdown",
   "metadata": {},
   "source": [
    "Essayez maintenant de changer la taille des *bins* pour voir ce qui se produit et normalisez les valeurs de l'axe y. N'hésitez pas a utiliser des valeurs ridicules pour bien voir ce qui se produit aux extrêmes."
   ]
  },
  {
   "cell_type": "code",
   "execution_count": null,
   "metadata": {},
   "outputs": [],
   "source": []
  },
  {
   "cell_type": "markdown",
   "metadata": {},
   "source": [
    "Qu'arrive-t-il lorsque vous changez les *bins* ? Est-ce qu'un plus gros nombre est toujours mieux ? Expliquez pourquoi. De plus, pour certaines variables vous devriez observer la présence de modes (plus d'un pics) dans la distribution. En vous basant sur les conclusions tirées des figures précédentes, êtes-vous capable de déduire ce qui peut expliquer ce phénomène ? \n",
    "### Exercice optionnel\n",
    "Il est possible de combiner les histogrammes avec une figure a points reliés. Calculez la moyenne et l'écart-type de la variable choisi. Tracer la distribution normale (gaussienne) correspondant a cette moyenne et écart-type et superposer cette figure à l'histogramme de cette variable. Est-ce que les deux figures concordent ? \n",
    "> Indice : une fonction gausienne est de forme : \n",
    "\\begin{align} \n",
    "y = \\frac{1}{\\sigma \\sqrt{2 \\pi}} \\exp \\left(-\\frac{(x-\\mu)^{2}}{2 \\sigma^{2}}\\right)\n",
    "\\end{align}\n",
    "Où $\\mu$ est la moyenne et $\\sigma$ est l'écart type"
   ]
  },
  {
   "cell_type": "code",
   "execution_count": null,
   "metadata": {},
   "outputs": [],
   "source": []
  },
  {
   "cell_type": "markdown",
   "metadata": {},
   "source": [
    "# Conclusion\n",
    "Merci d'avoir participé à cet atelier, j'espère qu'il vous a permis de solidifier les concepts appris aujourd'hui. Pour vérifier votre code, vous pouvez toujours consulter le corrigé qui devrait se trouver dans le même dossier que le présent fichier. S'il y a un message que nous aimerions vous avoir transmis, c'est l'importance de la visualisation et comment des figures bien réalisées peuvent instantanément transmettre un message.\n",
    "\n",
    "Bien que `matplotlib` soit une excellente librairie de visualisation il est important de savoir qu'il existe d'autres librairies python permettant d'accomplir des figures plus complexe tout en simplifiant le code nécessaire. Les principales sont `seaborn`, ❤️ `plotly` ❤️, `Bokeh`, `altair`, `folium` et même directement avec les DataFrames de `pandas`. Chacune ont leurs avantages et inconvénients, alors si le sujet vous intéresse, n'hésitez pas à faire des recherches pour trouver ce qui vous convient le plus ! "
   ]
  },
  {
   "cell_type": "code",
   "execution_count": null,
   "metadata": {},
   "outputs": [],
   "source": []
  }
 ],
 "metadata": {
  "kernelspec": {
   "display_name": "Python 3 (ipykernel)",
   "language": "python",
   "name": "python3"
  },
  "language_info": {
   "codemirror_mode": {
    "name": "ipython",
    "version": 3
   },
   "file_extension": ".py",
   "mimetype": "text/x-python",
   "name": "python",
   "nbconvert_exporter": "python",
   "pygments_lexer": "ipython3",
   "version": "3.7.7"
  }
 },
 "nbformat": 4,
 "nbformat_minor": 1
}
